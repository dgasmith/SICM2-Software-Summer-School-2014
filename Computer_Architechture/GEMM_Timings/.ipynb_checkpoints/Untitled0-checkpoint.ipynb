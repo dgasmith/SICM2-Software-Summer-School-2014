{
 "metadata": {
  "name": "",
  "signature": "sha256:55a18738135acd7d5c70d456a86e62fd0bc99cc4bf0a5be9a4905ea8bd579191"
 },
 "nbformat": 3,
 "nbformat_minor": 0,
 "worksheets": []
}