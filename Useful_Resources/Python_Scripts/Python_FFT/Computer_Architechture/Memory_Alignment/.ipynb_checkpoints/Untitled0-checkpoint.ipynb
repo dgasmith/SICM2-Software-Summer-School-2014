{
 "metadata": {
  "name": "",
  "signature": "sha256:d32c42025f78a5603b49683c85d179822a40ec48bfda72e40266bf90ba0e7e01"
 },
 "nbformat": 3,
 "nbformat_minor": 0,
 "worksheets": [
  {
   "cells": [
    {
     "cell_type": "markdown",
     "metadata": {},
     "source": []
    },
    {
     "cell_type": "code",
     "collapsed": false,
     "input": [
      "import numpy as np\n",
      "import \n",
      "\n",
      "#Maximum memory in GB\n",
      "MAXIMUM_MEMORY = 2.0\n",
      "#Maximum doubles size\n",
      "matrix_dim_max = 1.0E4\n",
      "array_dim_max = 2.5E8\n",
      "\n"
     ],
     "language": "python",
     "metadata": {},
     "outputs": []
    }
   ],
   "metadata": {}
  }
 ]
}